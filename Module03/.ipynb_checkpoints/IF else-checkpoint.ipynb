{
 "cells": [
  {
   "cell_type": "code",
   "execution_count": 6,
   "metadata": {},
   "outputs": [
    {
     "name": "stdout",
     "output_type": "stream",
     "text": [
      "Please input x number\n",
      "2\n",
      "x is positive\n"
     ]
    }
   ],
   "source": [
    "print(\"Please input x number\")\n",
    "x = input()\n",
    "x = int(x)\n",
    "\n",
    "if x == 0:\n",
    "    print(\"x is zero\")\n",
    "    \n",
    "elif x > 0:\n",
    "    print(\"x is positive\")\n",
    "    \n",
    "elif x < 0:\n",
    "    print(\"x in negative\")\n",
    "    \n",
    "else :\n",
    "    print(\"None\")"
   ]
  },
  {
   "cell_type": "code",
   "execution_count": null,
   "metadata": {},
   "outputs": [],
   "source": []
  }
 ],
 "metadata": {
  "kernelspec": {
   "display_name": "Python 3",
   "language": "python",
   "name": "python3"
  },
  "language_info": {
   "codemirror_mode": {
    "name": "ipython",
    "version": 3
   },
   "file_extension": ".py",
   "mimetype": "text/x-python",
   "name": "python",
   "nbconvert_exporter": "python",
   "pygments_lexer": "ipython3",
   "version": "3.8.8"
  }
 },
 "nbformat": 4,
 "nbformat_minor": 4
}

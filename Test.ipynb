{
  "nbformat": 4,
  "nbformat_minor": 0,
  "metadata": {
    "colab": {
      "name": "Test.ipynb",
      "provenance": []
    },
    "kernelspec": {
      "name": "python3",
      "display_name": "Python 3"
    }
  },
  "cells": [
    {
      "cell_type": "markdown",
      "metadata": {
        "id": "dS3UjHjE4UlO"
      },
      "source": [
        "# My First Notebook\r\n",
        "\r\n",
        "**Let's try some codes**\r\n"
      ]
    },
    {
      "cell_type": "code",
      "metadata": {
        "colab": {
          "base_uri": "https://localhost:8080/"
        },
        "id": "WdYobouu4CcX",
        "outputId": "5b89805e-bff9-4d78-8172-5696443d907a"
      },
      "source": [
        "#calculate\r\n",
        "2*(3+4)"
      ],
      "execution_count": 1,
      "outputs": [
        {
          "output_type": "execute_result",
          "data": {
            "text/plain": [
              "14"
            ]
          },
          "metadata": {
            "tags": []
          },
          "execution_count": 1
        }
      ]
    },
    {
      "cell_type": "code",
      "metadata": {
        "colab": {
          "base_uri": "https://localhost:8080/"
        },
        "id": "1rotADb74-1I",
        "outputId": "afae8c19-5b9f-4111-9881-eac95cb12f9a"
      },
      "source": [
        "print('first value:',1)\r\n",
        "print('second value:',2)"
      ],
      "execution_count": 2,
      "outputs": [
        {
          "output_type": "stream",
          "text": [
            "first value: 1\n",
            "second value: 2\n"
          ],
          "name": "stdout"
        }
      ]
    },
    {
      "cell_type": "code",
      "metadata": {
        "colab": {
          "base_uri": "https://localhost:8080/"
        },
        "id": "0jG7ka745Qae",
        "outputId": "8ea48dd5-7822-4df9-e716-fc2d0f49dd00"
      },
      "source": [
        "Numbers = [4,3,2,1]\r\n",
        "Numbers.sort()\r\n",
        "print(Numbers)\r\n"
      ],
      "execution_count": 3,
      "outputs": [
        {
          "output_type": "stream",
          "text": [
            "[1, 2, 3, 4]\n"
          ],
          "name": "stdout"
        }
      ]
    }
  ]
}